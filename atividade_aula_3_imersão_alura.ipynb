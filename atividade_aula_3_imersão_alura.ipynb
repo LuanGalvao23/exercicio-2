{
  "nbformat": 4,
  "nbformat_minor": 0,
  "metadata": {
    "colab": {
      "provenance": [],
      "authorship_tag": "ABX9TyP6v538kaDiuoCASSZqybfw",
      "include_colab_link": true
    },
    "kernelspec": {
      "name": "python3",
      "display_name": "Python 3"
    },
    "language_info": {
      "name": "python"
    }
  },
  "cells": [
    {
      "cell_type": "markdown",
      "metadata": {
        "id": "view-in-github",
        "colab_type": "text"
      },
      "source": [
        "<a href=\"https://colab.research.google.com/github/LuanGalvao23/exercicio-2/blob/main/atividade_aula_3_imers%C3%A3o_alura.ipynb\" target=\"_parent\"><img src=\"https://colab.research.google.com/assets/colab-badge.svg\" alt=\"Open In Colab\"/></a>"
      ]
    },
    {
      "cell_type": "code",
      "source": [
        "#trazendo bibliotecas capaz de realizar requisições\n",
        "import requests\n",
        "import random\n",
        "\n",
        "# variaveis para armazenar valores com as info que eu quero\n",
        "url = 'https://raw.githubusercontent.com/guilhermeonrails/api-imersao-ia/main/words.json'\n",
        "resposta = requests.get(url)\n",
        "data = resposta.json()\n",
        "\n",
        "valor_secreto = random.choice(data)\n",
        "palavra_secreta = valor_secreto['palavra']\n",
        "dica = valor_secreto['dica']\n",
        "#o f é capaz de juntar texto com palavras e variaveis\n",
        "#receber a resposta da tecnologia\n",
        "chute = input(f'A palavra secreta tem {len(palavra_secreta)} letras -> {dica}')\n",
        "print(f'A dica é -> {dica}')\n",
        "chute = input('O que você acha que e: ')\n",
        "if chute == palavra_secreta:\n",
        "  print('acertou miseravi')\n",
        "else:\n",
        "  print(f'EErrrouuuuu.. a palavra secreta era {palavra_secreta}')"
      ],
      "metadata": {
        "colab": {
          "base_uri": "https://localhost:8080/"
        },
        "id": "VI8l5axYYyV4",
        "outputId": "60de7445-40d8-4dd2-a862-a5893fffbc19"
      },
      "execution_count": 54,
      "outputs": [
        {
          "output_type": "stream",
          "name": "stdout",
          "text": [
            "A palavra secreta tem 3 letras -> gerenciar e consultar bancos de dados relacionais.sql\n",
            "A dica é -> gerenciar e consultar bancos de dados relacionais.\n",
            "O que você acha que e: sql\n",
            "acertou miseravi\n"
          ]
        }
      ]
    },
    {
      "cell_type": "code",
      "source": [],
      "metadata": {
        "id": "ibRaFE3Uf6gH"
      },
      "execution_count": null,
      "outputs": []
    }
  ]
}